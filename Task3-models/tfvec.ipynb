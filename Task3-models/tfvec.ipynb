{
 "cells": [
  {
   "cell_type": "code",
   "execution_count": 3,
   "metadata": {},
   "outputs": [],
   "source": [
    "import pandas as pd\n",
    "from sklearn.feature_extraction.text import TfidfVectorizer\n",
    "from sklearn.metrics.pairwise import cosine_similarity"
   ]
  },
  {
   "cell_type": "code",
   "execution_count": 4,
   "metadata": {},
   "outputs": [],
   "source": [
    "data_frame = pd.read_csv('papers.csv' , index_col = False)\n",
    "data_frame = data_frame.loc[:, ~data_frame.columns.str.match('Unnamed')]"
   ]
  },
  {
   "cell_type": "code",
   "execution_count": 5,
   "metadata": {},
   "outputs": [],
   "source": [
    "new_data_frame= data_frame[['id','title']]\n"
   ]
  },
  {
   "cell_type": "code",
   "execution_count": 7,
   "metadata": {},
   "outputs": [
    {
     "name": "stdout",
     "output_type": "stream",
     "text": [
      "  (0, 2451)\t0.38277764983404255\n",
      "  (0, 6488)\t0.35087399100326155\n",
      "  (0, 4557)\t0.0947544169631157\n",
      "  (0, 5712)\t0.308699648065151\n",
      "  (0, 6637)\t0.12724969384124604\n",
      "  (0, 6487)\t0.38277764983404255\n",
      "  (0, 1773)\t0.29781932258983995\n",
      "  (0, 139)\t0.31528618642518713\n",
      "  (0, 7251)\t0.14937353477659185\n",
      "  (0, 4419)\t0.16770018708092754\n",
      "  (0, 4421)\t0.2523726298632972\n",
      "  (0, 510)\t0.4014400938858507\n",
      "  (1, 5921)\t0.44390639136374943\n",
      "  (1, 2276)\t0.5933970783810584\n",
      "  (1, 602)\t0.483897129343914\n",
      "  (1, 1063)\t0.44390639136374943\n",
      "  (1, 4557)\t0.140063224989185\n",
      "  (2, 135)\t0.5242262298385554\n",
      "  (2, 3113)\t0.4257413339083905\n",
      "  (2, 6161)\t0.4305284171829818\n",
      "  (2, 2406)\t0.53615232804278\n",
      "  (2, 4557)\t0.15927124288048067\n",
      "  (2, 6637)\t0.21389205425795785\n",
      "  (3, 1197)\t0.3027445231892334\n",
      "  (3, 775)\t0.33667390044327794\n",
      "  :\t:\n",
      "  (4510, 154)\t0.3805870775163967\n",
      "  (4510, 1171)\t0.4829730137854962\n",
      "  (4510, 243)\t0.36873997514511503\n",
      "  (4510, 3184)\t0.3907168359475136\n",
      "  (4510, 296)\t0.292906555497566\n",
      "  (4510, 2646)\t0.16553821957553527\n",
      "  (4511, 2663)\t0.4137960751870674\n",
      "  (4511, 6279)\t0.42852359229509956\n",
      "  (4511, 5892)\t0.4183217723143075\n",
      "  (4511, 687)\t0.35783914892874524\n",
      "  (4511, 5522)\t0.4479712319241063\n",
      "  (4511, 303)\t0.2337530833270295\n",
      "  (4511, 314)\t0.14796048466766304\n",
      "  (4511, 4578)\t0.1907409608036719\n",
      "  (4511, 6637)\t0.16883491807134435\n",
      "  (4512, 4340)\t0.45212734307287294\n",
      "  (4512, 674)\t0.3951765848051762\n",
      "  (4512, 7031)\t0.3951765848051762\n",
      "  (4512, 460)\t0.3354230459018263\n",
      "  (4512, 1459)\t0.2262807238507791\n",
      "  (4512, 626)\t0.15466669418563178\n",
      "  (4512, 4850)\t0.2262807238507791\n",
      "  (4512, 4109)\t0.33276406234634415\n",
      "  (4512, 4578)\t0.16191178754325397\n",
      "  (4512, 2794)\t0.32782329564777807\n"
     ]
    }
   ],
   "source": [
    "#Making into vectors\n",
    "tfidfvectorizer = TfidfVectorizer()\n",
    "tfidfmatrix = tfidfvectorizer.fit_transform(new_data_frame['title'])\n",
    "print(tfidfmatrix)\n",
    "data_frame = pd.DataFrame(tfidfmatrix.toarray())"
   ]
  },
  {
   "cell_type": "code",
   "execution_count": 8,
   "metadata": {},
   "outputs": [],
   "source": [
    "cosine_sim = cosine_similarity(data_frame)\n",
    "df_cosineSim = pd.DataFrame(cosine_sim)"
   ]
  },
  {
   "cell_type": "code",
   "execution_count": 18,
   "metadata": {},
   "outputs": [],
   "source": [
    "# #Recommendations\n",
    "# def recommendations(title, cosine_sim = cosine_sim):\n",
    "    \n",
    "#     recommended_titles = []\n",
    "#     recommended_id = []\n",
    "#     idx = new_data_frame[new_data_frame['title'].str.contains(title, case=False)].index[0]\n",
    "    \n",
    "\n",
    "#     score_series = pd.Series(cosine_sim[idx]).sort_values(ascending = False)\n",
    "\n",
    "#     top_10_indexes = list(score_series.iloc[1:6].index)\n",
    "    \n",
    "#     for i in top_10_indexes:\n",
    "#         recommended_titles.append(list(new_data_frame['title'])[i])\n",
    "#         recommended_id.append(list(new_data_frame['id'])[i])\n",
    "        \n",
    "#         #recommended_titles[new_df['id'][i]] = new_df['title'][i]\n",
    "#         uniq = []\n",
    "#         [uniq.append(x) for x in recommended_titles if x not in uniq]\n",
    "#     print(uniq)\n",
    "#     return (uniq , recommended_id)\n",
    "\n",
    "def recommendations(title, cosine_sim=cosine_sim):\n",
    "    recommended_titles = []\n",
    "    recommended_id = []\n",
    "    \n",
    "    matching_rows = new_data_frame[new_data_frame['title'].str.contains(title, case=False)]\n",
    "    \n",
    "    if matching_rows.empty:\n",
    "        print(\"No matching titles found.\")\n",
    "        return [], []\n",
    "    \n",
    "    idx = matching_rows.index[0]\n",
    "    \n",
    "    score_series = pd.Series(cosine_sim[idx]).sort_values(ascending=False)\n",
    "    top_10_indexes = list(score_series.iloc[1:6].index)\n",
    "    \n",
    "    for i in top_10_indexes:\n",
    "        recommended_titles.append(list(new_data_frame['title'])[i])\n",
    "        recommended_id.append(list(new_data_frame['id'])[i])\n",
    "        \n",
    "    uniq = list(set(recommended_titles))\n",
    "    print(uniq)\n",
    "    return uniq, recommended_id\n"
   ]
  },
  {
   "cell_type": "code",
   "execution_count": 20,
   "metadata": {},
   "outputs": [
    {
     "name": "stdout",
     "output_type": "stream",
     "text": [
      "['Learning a Deep Compact Image Representation for Visual Tracking', 'Measuring deep metastability', 'Analysis, understanding and representation of Chinese newspaper with complex layout', 'Hierarchical A* Parsing with Bridge Outside Scores', 'From shallow to deep parsing using constraint satisfaction']\n"
     ]
    },
    {
     "data": {
      "text/plain": [
       "(['Learning a Deep Compact Image Representation for Visual Tracking',\n",
       "  'Measuring deep metastability',\n",
       "  'Analysis, understanding and representation of Chinese newspaper with complex layout',\n",
       "  'Hierarchical A* Parsing with Bridge Outside Scores',\n",
       "  'From shallow to deep parsing using constraint satisfaction'],\n",
       " ['4b7241d8-1cc0-4962-9cd9-17a23055408f',\n",
       "  '4bfb6389-256e-4a8c-bb33-7babb2c35f6a',\n",
       "  '4bf5a20c-d74b-420e-836e-efaa83975716',\n",
       "  '4b1cd041-8111-42b8-8348-70efec7044f6',\n",
       "  '4af0736e-de91-4611-be3c-1d204f3bf0c0'])"
      ]
     },
     "execution_count": 20,
     "metadata": {},
     "output_type": "execute_result"
    }
   ],
   "source": [
    "recommendations('deep')"
   ]
  },
  {
   "cell_type": "code",
   "execution_count": null,
   "metadata": {},
   "outputs": [],
   "source": []
  }
 ],
 "metadata": {
  "kernelspec": {
   "display_name": ".venv",
   "language": "python",
   "name": "python3"
  },
  "language_info": {
   "codemirror_mode": {
    "name": "ipython",
    "version": 3
   },
   "file_extension": ".py",
   "mimetype": "text/x-python",
   "name": "python",
   "nbconvert_exporter": "python",
   "pygments_lexer": "ipython3",
   "version": "3.11.3"
  },
  "orig_nbformat": 4
 },
 "nbformat": 4,
 "nbformat_minor": 2
}
